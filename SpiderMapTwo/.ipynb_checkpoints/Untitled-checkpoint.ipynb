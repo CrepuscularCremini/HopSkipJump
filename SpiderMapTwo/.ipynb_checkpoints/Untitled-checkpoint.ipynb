{
 "cells": [
  {
   "cell_type": "code",
   "execution_count": 14,
   "id": "d8008a15-d6dc-4fed-9f74-df630d029143",
   "metadata": {},
   "outputs": [],
   "source": [
    "import pandas as pd\n",
    "import geopandas as gpd\n",
    "from random import randint"
   ]
  },
  {
   "cell_type": "code",
   "execution_count": 4,
   "id": "498be050-5c63-46d2-b2c5-460186b4e4a6",
   "metadata": {},
   "outputs": [],
   "source": [
    "gdf = gpd.read_file('brews.geojson')"
   ]
  },
  {
   "cell_type": "code",
   "execution_count": 6,
   "id": "993ab56a-1516-4d9d-a187-6844f111c479",
   "metadata": {
    "jupyter": {
     "source_hidden": true
    }
   },
   "outputs": [],
   "source": [
    "mat = {\"3\": [3, 509, 515, 518, 517, 505, 512],\n",
    "\"479\": [479, 480],\n",
    "\"480\": [480, 481, 479],\n",
    "\"481\": [481, 480],\n",
    "\"482\": [482],\n",
    "\"483\": [483, 486, 490, 491, 1208, 489, 485],\n",
    "\"484\": [484, 1251, 485, 487, 488, 1174, 493, 1082],\n",
    "\"485\": [485, 487, 1082, 1251, 484, 491, 488, 486, 490, 483, 500],\n",
    "\"486\": [486, 483, 491, 490, 1208, 489, 485],\n",
    "\"487\": [487, 485, 1082, 491, 1251, 484, 500, 488, 490, 486],\n",
    "\"488\": [488, 497, 493, 487, 1251, 1174, 1082, 485, 484, 503],\n",
    "\"489\": [489, 1208, 492, 496, 498, 483, 486],\n",
    "\"490\": [490, 491, 486, 483, 485, 498, 489, 1208, 500, 487],\n",
    "\"491\": [491, 490, 483, 486, 500, 487, 485, 1082, 498],\n",
    "\"492\": [492, 496, 489, 1208],\n",
    "\"493\": [493, 1174, 503, 497, 488, 505, 495, 494, 484, 511, 513],\n",
    "\"494\": [494, 1174, 495, 509, 493, 505],\n",
    "\"495\": [495, 1174, 505, 494, 493, 503],\n",
    "\"496\": [496, 492, 502, 489, 1208],\n",
    "\"497\": [497, 488, 503, 493, 1174, 505, 511, 1251, 1082, 513],\n",
    "\"498\": [498, 489, 1207, 492, 1208, 490, 491],\n",
    "\"500\": [500, 1082, 487, 491, 485, 488, 490],\n",
    "\"501\": [501, 502, 504, 506, 507],\n",
    "\"502\": [502, 501, 496, 504, 507],\n",
    "\"503\": [503, 505, 493, 497, 1174, 511, 513, 495, 488],\n",
    "\"504\": [504, 507, 506, 502, 501, 508, 519, 516, 520],\n",
    "\"505\": [505, 503, 495, 1174, 493, 511, 513, 509, 3, 497, 494],\n",
    "\"506\": [506, 507, 504, 508, 519, 516, 501, 502],\n",
    "\"507\": [507, 504, 506, 519, 508, 501, 516, 502],\n",
    "\"508\": [508, 516, 506, 507, 519, 504, 510],\n",
    "\"509\": [509, 3, 505, 512, 515, 494],\n",
    "\"510\": [510, 516, 508],\n",
    "\"511\": [511, 513, 503, 505, 1158, 497],\n",
    "\"512\": [512, 515, 517, 518, 509, 3],\n",
    "\"513\": [513, 511, 1158, 503, 505, 497],\n",
    "\"515\": [518, 515, 517, 512, 3, 509],\n",
    "\"516\": [516, 508, 519, 507, 506, 510, 504],\n",
    "\"517\": [518, 517, 515, 512, 3],\n",
    "\"518\": [518, 517, 515, 512, 3],\n",
    "\"519\": [519, 516, 507, 508, 506, 504],\n",
    "\"520\": [520, 519],\n",
    "\"523\": [523, 524],\n",
    "\"524\": [524, 523],\n",
    "\"525\": [525],\n",
    "\"526\": [526, 527, 528, 1237],\n",
    "\"527\": [527, 526, 528, 1237],\n",
    "\"528\": [528, 1237, 527, 526],\n",
    "\"532\": [532],\n",
    "\"533\": [533],\n",
    "\"536\": [536],\n",
    "\"958\": [958],\n",
    "\"973\": [973],\n",
    "\"1082\": [1082, 487, 485, 500, 491, 488, 497, 1251, 490, 484],\n",
    "\"1158\": [1158, 513, 511],\n",
    "\"1174\": [1174, 493, 495, 503, 505, 497, 494, 488],\n",
    "\"1207\": [1207, 498],\n",
    "\"1208\": [1208, 489, 483, 492, 486, 496, 490],\n",
    "\"1237\": [1237, 528, 527, 526],\n",
    "\"1251\": [1251, 484, 485, 487, 488, 1082, 497],\n",
    "}\n"
   ]
  },
  {
   "cell_type": "code",
   "execution_count": 9,
   "id": "f66e686d-d0fe-4106-a042-eb0c32a12e7a",
   "metadata": {},
   "outputs": [],
   "source": [
    "k = []\n",
    "v = []"
   ]
  },
  {
   "cell_type": "code",
   "execution_count": 10,
   "id": "a86468b9-8dda-4cce-b2bf-58f1b7f54403",
   "metadata": {},
   "outputs": [],
   "source": [
    "for key in mat.keys():\n",
    "    for val in mat[key]:\n",
    "        k.append(key)\n",
    "        v.append(val)"
   ]
  },
  {
   "cell_type": "code",
   "execution_count": 34,
   "id": "3385426e-d9ee-4be9-956e-c64146af1a4b",
   "metadata": {},
   "outputs": [],
   "source": [
    "df = pd.DataFrame.from_dict({'from_id' : k, 'to_id' : v})\n",
    "df['time'] = df.apply(lambda x: randint(1, 45), axis = 1)"
   ]
  },
  {
   "cell_type": "code",
   "execution_count": 35,
   "id": "0278ffe5-45e4-41e3-a422-36263ca9ad92",
   "metadata": {},
   "outputs": [],
   "source": [
    "mdf = gdf.merge(df, left_on = 'id', right_on = 'to_id', how = 'right')"
   ]
  },
  {
   "cell_type": "code",
   "execution_count": 36,
   "id": "692896ea-175a-4b8d-b8e4-cd4f68def430",
   "metadata": {},
   "outputs": [],
   "source": [
    "mdf.to_file('matrix_point.geojson', driver = 'GeoJSON')"
   ]
  },
  {
   "cell_type": "code",
   "execution_count": 37,
   "id": "84739456-9496-443e-b38a-23df69e8daaf",
   "metadata": {},
   "outputs": [
    {
     "data": {
      "text/plain": [
       "<Geographic 2D CRS: EPSG:4326>\n",
       "Name: WGS 84\n",
       "Axis Info [ellipsoidal]:\n",
       "- Lat[north]: Geodetic latitude (degree)\n",
       "- Lon[east]: Geodetic longitude (degree)\n",
       "Area of Use:\n",
       "- name: World.\n",
       "- bounds: (-180.0, -90.0, 180.0, 90.0)\n",
       "Datum: World Geodetic System 1984 ensemble\n",
       "- Ellipsoid: WGS 84\n",
       "- Prime Meridian: Greenwich"
      ]
     },
     "execution_count": 37,
     "metadata": {},
     "output_type": "execute_result"
    }
   ],
   "source": [
    "mdf.crs"
   ]
  },
  {
   "cell_type": "code",
   "execution_count": 33,
   "id": "3a53ff8b-2cd0-4476-8ff3-770dabdc6bd8",
   "metadata": {},
   "outputs": [
    {
     "data": {
      "text/plain": [
       "<Axes: >"
      ]
     },
     "execution_count": 33,
     "metadata": {},
     "output_type": "execute_result"
    },
    {
     "data": {
      "image/png": "[encoded data removed]",
      "text/plain": [
       "<Figure size 640x480 with 1 Axes>"
      ]
     },
     "metadata": {},
     "output_type": "display_data"
    }
   ],
   "source": [
    "mdf.plot()"
   ]
  },
  {
   "cell_type": "code",
   "execution_count": null,
   "id": "c9435ee3-72b2-48b2-ad03-a71b054b267e",
   "metadata": {},
   "outputs": [],
   "source": []
  }
 ],
 "metadata": {
  "kernelspec": {
   "display_name": "Python 3 (ipykernel)",
   "language": "python",
   "name": "python3"
  },
  "language_info": {
   "codemirror_mode": {
    "name": "ipython",
    "version": 3
   },
   "file_extension": ".py",
   "mimetype": "text/x-python",
   "name": "python",
   "nbconvert_exporter": "python",
   "pygments_lexer": "ipython3",
   "version": "3.11.4"
  }
 },
 "nbformat": 4,
 "nbformat_minor": 5
}
